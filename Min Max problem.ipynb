{
 "cells": [
  {
   "cell_type": "code",
   "execution_count": 1,
   "id": "1842f584-329c-4d9a-b65d-a909ac3f02d4",
   "metadata": {},
   "outputs": [
    {
     "name": "stdout",
     "output_type": "stream",
     "text": [
      "Maximum element is: 64\n",
      "Minimum element is: 4\n"
     ]
    }
   ],
   "source": [
    "def max_min(arr):\n",
    "    max_val = arr[0]\n",
    "    min_val = arr[0]\n",
    "    for i in range(1, len(arr)):\n",
    "        if arr[i] > max_val:\n",
    "            max_val = arr[i]\n",
    "        if arr [i] < min_val:\n",
    "            min_val = arr[i]\n",
    "    return max_val, min_val\n",
    "arr = [6,4,26,14,33,64,46]\n",
    "max_val, min_val = max_min(arr)\n",
    "print(\"Maximum element is:\", max_val)\n",
    "print(\"Minimum element is:\", min_val)"
   ]
  },
  {
   "cell_type": "code",
   "execution_count": null,
   "id": "73d0d6c9-ef41-48a6-8d40-8b6c7d581cfa",
   "metadata": {},
   "outputs": [],
   "source": []
  }
 ],
 "metadata": {
  "kernelspec": {
   "display_name": "Python 3 (ipykernel)",
   "language": "python",
   "name": "python3"
  },
  "language_info": {
   "codemirror_mode": {
    "name": "ipython",
    "version": 3
   },
   "file_extension": ".py",
   "mimetype": "text/x-python",
   "name": "python",
   "nbconvert_exporter": "python",
   "pygments_lexer": "ipython3",
   "version": "3.12.4"
  }
 },
 "nbformat": 4,
 "nbformat_minor": 5
}
