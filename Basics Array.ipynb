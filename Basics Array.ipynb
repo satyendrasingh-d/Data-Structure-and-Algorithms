{
 "cells": [
  {
   "cell_type": "code",
   "execution_count": 1,
   "id": "91c55e3e-6764-492c-bfd1-c25c874a2ab4",
   "metadata": {},
   "outputs": [
    {
     "name": "stdout",
     "output_type": "stream",
     "text": [
      "[10, 50, 30, 40, 20]\n"
     ]
    }
   ],
   "source": [
    "a = [10,20,30,40,50]\n",
    "i = 1\n",
    "j = 4\n",
    "\n",
    "a[i], a[j] = a[j],a[i]\n",
    "print(a)"
   ]
  },
  {
   "cell_type": "code",
   "execution_count": 2,
   "id": "ebff34f1-3c63-4d8c-bb6d-413185ab0efc",
   "metadata": {},
   "outputs": [
    {
     "name": "stdout",
     "output_type": "stream",
     "text": [
      "[2, 1, 4, 3, 6, 5]\n"
     ]
    }
   ],
   "source": [
    "a = [1,2,3,4,5,6]\n",
    "for i in range(0, len(a)-1, 2):\n",
    "    a[i], a[i+1] = a[i+1], a[i]\n",
    "\n",
    "print(a)"
   ]
  },
  {
   "cell_type": "code",
   "execution_count": 3,
   "id": "5a23d8d6-0a60-4680-9256-ebaabddfeded",
   "metadata": {},
   "outputs": [
    {
     "name": "stdout",
     "output_type": "stream",
     "text": [
      "[5, 4, 3, 2, 1]\n"
     ]
    }
   ],
   "source": [
    "a = [1,2,3,4,5]\n",
    "n = len(a)\n",
    "\n",
    "for i in range(n//2):\n",
    "    a[i], a[n-1-i], = a[n-1-i], a[i]\n",
    "print(a)"
   ]
  },
  {
   "cell_type": "code",
   "execution_count": 4,
   "id": "9ab507e7-5f5f-4ef7-8752-eadabb085394",
   "metadata": {},
   "outputs": [
    {
     "name": "stdout",
     "output_type": "stream",
     "text": [
      "[6, 5, 4, 'cat', 3, 2, 1]\n"
     ]
    }
   ],
   "source": [
    "a = [1,2,3,'cat',4,5,6]\n",
    "n = len(a)\n",
    "\n",
    "for i in range(n//2):\n",
    "    a[i], a[n-1-i], = a[n-1-i], a[i]\n",
    "print(a)"
   ]
  },
  {
   "cell_type": "code",
   "execution_count": null,
   "id": "66068d01-4fd9-4b0d-bce4-edceacc52006",
   "metadata": {},
   "outputs": [],
   "source": []
  }
 ],
 "metadata": {
  "kernelspec": {
   "display_name": "Python 3 (ipykernel)",
   "language": "python",
   "name": "python3"
  },
  "language_info": {
   "codemirror_mode": {
    "name": "ipython",
    "version": 3
   },
   "file_extension": ".py",
   "mimetype": "text/x-python",
   "name": "python",
   "nbconvert_exporter": "python",
   "pygments_lexer": "ipython3",
   "version": "3.12.4"
  }
 },
 "nbformat": 4,
 "nbformat_minor": 5
}
