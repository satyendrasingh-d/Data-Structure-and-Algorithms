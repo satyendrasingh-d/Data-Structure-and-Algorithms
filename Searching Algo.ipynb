{
 "cells": [
  {
   "cell_type": "code",
   "execution_count": 1,
   "id": "f4e221f2-b680-45f4-8ee6-9de4f53041f2",
   "metadata": {},
   "outputs": [
    {
     "name": "stdout",
     "output_type": "stream",
     "text": [
      "Target element lies in an array at index possition: 3\n"
     ]
    }
   ],
   "source": [
    "# Liner Search \n",
    "arr = [10,18,22,25,29]\n",
    "target = 25\n",
    "n = len(arr)\n",
    "for i in range (n):\n",
    "    if arr [i]==target:\n",
    "        print('Target element lies in an array at index possition:',i)"
   ]
  },
  {
   "cell_type": "code",
   "execution_count": 4,
   "id": "0009125c-66b6-4a0a-a85f-4349972ffa71",
   "metadata": {},
   "outputs": [
    {
     "name": "stdout",
     "output_type": "stream",
     "text": [
      "Target element lies in an array at index position: 2\n"
     ]
    }
   ],
   "source": [
    "def linear_search(arr, target):\n",
    "    for i in range(len(arr)):\n",
    "        if arr [i] == target:\n",
    "            print('Target element lies in an array at index position:',i)\n",
    "            return\n",
    "    print(\"Element not found\")\n",
    "numbers = [4,7,1,9,3]\n",
    "linear_search(numbers, 1)"
   ]
  },
  {
   "cell_type": "code",
   "execution_count": null,
   "id": "f75dd5be-f1ac-4e3f-85b8-3d83d80fb552",
   "metadata": {},
   "outputs": [],
   "source": []
  }
 ],
 "metadata": {
  "kernelspec": {
   "display_name": "Python 3 (ipykernel)",
   "language": "python",
   "name": "python3"
  },
  "language_info": {
   "codemirror_mode": {
    "name": "ipython",
    "version": 3
   },
   "file_extension": ".py",
   "mimetype": "text/x-python",
   "name": "python",
   "nbconvert_exporter": "python",
   "pygments_lexer": "ipython3",
   "version": "3.12.4"
  }
 },
 "nbformat": 4,
 "nbformat_minor": 5
}
