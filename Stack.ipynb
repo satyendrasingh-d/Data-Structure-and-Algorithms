{
 "cells": [
  {
   "cell_type": "code",
   "execution_count": 1,
   "id": "571ef2a8-60c5-4b7a-87fc-b35fda1e5b83",
   "metadata": {},
   "outputs": [
    {
     "name": "stdout",
     "output_type": "stream",
     "text": [
      "[10, 20, 30]\n",
      "Top element: 30\n",
      "Is empty? False\n"
     ]
    }
   ],
   "source": [
    "stack = []\n",
    "stack.append(10)\n",
    "stack.append(20)\n",
    "stack.append(30)\n",
    "print(stack)\n",
    "# print(\"popped:\", stack.pop())\n",
    "# print(\"popped:\", stack.pop())\n",
    "# print(\"popped:\", stack.pop())\n",
    "\n",
    "print(\"Top element:\", stack[-1])\n",
    "print(\"Is empty?\", len(stack) == 0)"
   ]
  },
  {
   "cell_type": "code",
   "execution_count": 2,
   "id": "d5d0a7e8-00e2-4983-9fcf-f44e6779ec63",
   "metadata": {},
   "outputs": [
    {
     "data": {
      "text/plain": [
       "[10, 20, 18, 19]"
      ]
     },
     "execution_count": 2,
     "metadata": {},
     "output_type": "execute_result"
    }
   ],
   "source": [
    "stack = []\n",
    "stack.append(10)\n",
    "stack.append(20)\n",
    "stack.append(18)\n",
    "stack.append(19)\n",
    "stack"
   ]
  },
  {
   "cell_type": "code",
   "execution_count": 3,
   "id": "93cb0a87-a85f-4e8b-9149-ab03ca4b97b3",
   "metadata": {},
   "outputs": [
    {
     "data": {
      "text/plain": [
       "19"
      ]
     },
     "execution_count": 3,
     "metadata": {},
     "output_type": "execute_result"
    }
   ],
   "source": [
    "stack.pop()"
   ]
  },
  {
   "cell_type": "code",
   "execution_count": 1,
   "id": "35c1b320-139b-4f25-bf26-819b751a0edf",
   "metadata": {},
   "outputs": [
    {
     "name": "stdout",
     "output_type": "stream",
     "text": [
      "Demonstrating Enqueuing of elements: 10, 20, 30, 80\n",
      "[10]\n",
      "[10, 20]\n",
      "[10, 20, 30]\n",
      "Queue formed: [10, 20, 30, 80]\n",
      "Demonstrating Dequeueing of elements:\n",
      "Removed 10\n",
      "[20, 30, 80]\n",
      "Removed 20\n",
      "[30, 80]\n",
      "Removed: 30\n",
      "[80]\n",
      "Removed: 80\n",
      "[]\n"
     ]
    }
   ],
   "source": [
    "# FIFO Queue demonstration using list \n",
    "\n",
    "queue = []\n",
    "# Enqueue\n",
    "print('Demonstrating Enqueuing of elements: 10, 20, 30, 80')\n",
    "queue.append(10)\n",
    "print(queue)\n",
    "queue.append(20)\n",
    "print(queue)\n",
    "queue.append(30)\n",
    "print(queue)\n",
    "queue.append(80)\n",
    "print('Queue formed:', queue)\n",
    "\n",
    "# Dequeue\n",
    "print('Demonstrating Dequeueing of elements:')\n",
    "first = queue.pop(0)   # first out \n",
    "print('Removed', first)\n",
    "print(queue)\n",
    "second = queue.pop(0)\n",
    "print(\"Removed\", second)\n",
    "print(queue)\n",
    "third = queue.pop(0)\n",
    "print(\"Removed:\",third)\n",
    "print(queue)\n",
    "fourth = queue.pop(0)\n",
    "print(\"Removed:\", fourth)\n",
    "print(queue)"
   ]
  },
  {
   "cell_type": "code",
   "execution_count": null,
   "id": "45d01519-d091-4bab-8e25-17a07e2c4417",
   "metadata": {},
   "outputs": [],
   "source": []
  }
 ],
 "metadata": {
  "kernelspec": {
   "display_name": "Python 3 (ipykernel)",
   "language": "python",
   "name": "python3"
  },
  "language_info": {
   "codemirror_mode": {
    "name": "ipython",
    "version": 3
   },
   "file_extension": ".py",
   "mimetype": "text/x-python",
   "name": "python",
   "nbconvert_exporter": "python",
   "pygments_lexer": "ipython3",
   "version": "3.12.4"
  }
 },
 "nbformat": 4,
 "nbformat_minor": 5
}
