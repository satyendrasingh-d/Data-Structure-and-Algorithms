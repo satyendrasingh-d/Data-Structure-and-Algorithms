{
 "cells": [
  {
   "cell_type": "code",
   "execution_count": 1,
   "id": "e7babd40-52ae-4cab-8e67-a437d59ffc7b",
   "metadata": {},
   "outputs": [],
   "source": [
    "# Flow Chart and Alog"
   ]
  },
  {
   "cell_type": "code",
   "execution_count": 2,
   "id": "54363893-163c-42b7-9b6c-2270975581ba",
   "metadata": {},
   "outputs": [
    {
     "name": "stdout",
     "output_type": "stream",
     "text": [
      "5x4x3x2x1x\n",
      "120\n"
     ]
    }
   ],
   "source": [
    "# Find Factorial\n",
    "a = 5\n",
    "b = 1\n",
    "while a>=1:\n",
    "    b=a*b\n",
    "    print(a,end='x')\n",
    "    a-=1\n",
    "print()\n",
    "print(b)"
   ]
  },
  {
   "cell_type": "code",
   "execution_count": 3,
   "id": "002ef9a0-101a-4d28-93aa-3f9b1a33b702",
   "metadata": {},
   "outputs": [
    {
     "name": "stdin",
     "output_type": "stream",
     "text": [
      "Please Enter the number 10\n",
      "Please Enter the number 5\n"
     ]
    },
    {
     "name": "stdout",
     "output_type": "stream",
     "text": [
      "The GCD of the number is 5\n"
     ]
    }
   ],
   "source": [
    "# GCD of two number\n",
    "# Start: Being the process.\n",
    "# Input:\n",
    "# Prompt the user to enter the first number (d)\n",
    "# Prompt the user to enter the second number (h)\n",
    "# Initailize : Set gcd = 1 (since 1 is a universal divisor).\n",
    "# Loop\n",
    "# Start a loop from i =1 to i = min(d,h).\n",
    "# For each interation:\n",
    "# Check Conditional \n",
    "# If d % i == 0 and h % == 0 then update gcd = i.\n",
    "# Increment : Move to the next value of i \n",
    "# End Loop: When the loop finishes (i.e, i exceeds min(d,h), exit the loop.\n",
    "# Output: Print the result: The gcd of the given number is (gcd).\n",
    "# End: Terminate the process.\n",
    "\n",
    "\n",
    "d = int(input('Please Enter the number'))\n",
    "h = int(input('Please Enter the number'))\n",
    "\n",
    "gcd=1 # We will take 1 as gcd because 1 is an universal division\n",
    "\n",
    "for i in range(1,min(d,h)+1): # in this loop we take range\n",
    "    if d % i == 0 and h%i ==0:\n",
    "        gcd = i\n",
    "print(f'The GCD of the number is {gcd}')"
   ]
  },
  {
   "cell_type": "code",
   "execution_count": 4,
   "id": "fbd9f87b-7880-4e17-a36d-6d4145772fe4",
   "metadata": {},
   "outputs": [
    {
     "name": "stdin",
     "output_type": "stream",
     "text": [
      "Please Enter the first number 222\n",
      "Please Enter the second number 58\n"
     ]
    },
    {
     "name": "stdout",
     "output_type": "stream",
     "text": [
      "The LCM of the number is 1\n"
     ]
    }
   ],
   "source": [
    "# LCM of two number\n",
    "\n",
    "d = int(input('Please Enter the first number'))\n",
    "h = int(input('Please Enter the second number'))\n",
    "lcm = 1\n",
    "for i in range(1,min(d,h) + 1):\n",
    "    if d % i == 0 and h% i ==0:\n",
    "        lcm = 1\n",
    "print(f'The LCM of the number is {lcm}')"
   ]
  },
  {
   "cell_type": "code",
   "execution_count": 5,
   "id": "f40b34b6-4b7d-4f48-ab6d-668b3fa473f4",
   "metadata": {},
   "outputs": [
    {
     "name": "stdin",
     "output_type": "stream",
     "text": [
      "Please Enter the Number 5\n",
      "Please Enter the Second number 54\n"
     ]
    },
    {
     "name": "stdout",
     "output_type": "stream",
     "text": [
      "The GCD of the Number is 1\n"
     ]
    }
   ],
   "source": [
    "d = int(input('Please Enter the Number'))\n",
    "h = int(input('Please Enter the Second number'))\n",
    "gcd = 1\n",
    "for i in range (1,min(d,h)+1):\n",
    "    if d % i ==0 and h % i ==0:\n",
    "        gcd=1\n",
    "print(f'The GCD of the Number is {gcd}')"
   ]
  },
  {
   "cell_type": "markdown",
   "id": "14910045-c493-4062-a328-2b7de1c380aa",
   "metadata": {},
   "source": []
  },
  {
   "cell_type": "code",
   "execution_count": null,
   "id": "8ca9b4a8-3265-430c-8ba5-4a072ee26d7b",
   "metadata": {},
   "outputs": [],
   "source": []
  },
  {
   "cell_type": "code",
   "execution_count": null,
   "id": "522bcb17-c5d4-4bc7-95a1-848e880f3c07",
   "metadata": {},
   "outputs": [],
   "source": []
  }
 ],
 "metadata": {
  "kernelspec": {
   "display_name": "Python 3 (ipykernel)",
   "language": "python",
   "name": "python3"
  },
  "language_info": {
   "codemirror_mode": {
    "name": "ipython",
    "version": 3
   },
   "file_extension": ".py",
   "mimetype": "text/x-python",
   "name": "python",
   "nbconvert_exporter": "python",
   "pygments_lexer": "ipython3",
   "version": "3.12.4"
  }
 },
 "nbformat": 4,
 "nbformat_minor": 5
}
