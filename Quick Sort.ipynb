{
 "cells": [
  {
   "cell_type": "code",
   "execution_count": 2,
   "id": "5f98c711-b88e-478a-986d-3d5620e0e699",
   "metadata": {},
   "outputs": [
    {
     "name": "stdout",
     "output_type": "stream",
     "text": [
      "[42, 93, 77, 66, 55]\n"
     ]
    }
   ],
   "source": [
    "def QS(arr):\n",
    "    if len(arr) <= 1:\n",
    "        return arr\n",
    "    pivot = arr[-1]\n",
    "    left = [x for x in arr [:-1] if x <= pivot]\n",
    "    right = [x for x in arr [:-1] if x > pivot]\n",
    "    return QS(left) + [pivot] + (right)\n",
    "\n",
    "arr = [93,77,66,55,42]\n",
    "SAR = QS(arr)\n",
    "print(SAR)"
   ]
  },
  {
   "cell_type": "code",
   "execution_count": 4,
   "id": "2b02b8eb-877c-49f2-8a65-eeb50c39e2df",
   "metadata": {},
   "outputs": [
    {
     "name": "stdout",
     "output_type": "stream",
     "text": [
      "[1, 3, 5, 7, 9]\n"
     ]
    }
   ],
   "source": [
    "def QS(arr):\n",
    "    if len(arr) <= 1:\n",
    "        return arr\n",
    "    pivot = arr[-1]\n",
    "    left = [x for x in arr [:-1] if x < pivot]\n",
    "    right = [x for x in arr [:-1] if x > pivot]\n",
    "    return QS(left) + [pivot] + QS(right)\n",
    "\n",
    "arr = [9,3,7,1,5]\n",
    "SAR = QS(arr)\n",
    "print(SAR)"
   ]
  },
  {
   "cell_type": "code",
   "execution_count": null,
   "id": "3c571a9b-0c59-4909-81dc-9c3d084c9241",
   "metadata": {},
   "outputs": [],
   "source": []
  }
 ],
 "metadata": {
  "kernelspec": {
   "display_name": "Python 3 (ipykernel)",
   "language": "python",
   "name": "python3"
  },
  "language_info": {
   "codemirror_mode": {
    "name": "ipython",
    "version": 3
   },
   "file_extension": ".py",
   "mimetype": "text/x-python",
   "name": "python",
   "nbconvert_exporter": "python",
   "pygments_lexer": "ipython3",
   "version": "3.12.4"
  }
 },
 "nbformat": 4,
 "nbformat_minor": 5
}
