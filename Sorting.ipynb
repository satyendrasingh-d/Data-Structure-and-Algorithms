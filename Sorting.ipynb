{
 "cells": [
  {
   "cell_type": "markdown",
   "id": "de460b4a-b5d6-4f5e-b771-f61d44abcb98",
   "metadata": {},
   "source": [
    "Sorting: Bubble Sort "
   ]
  },
  {
   "cell_type": "markdown",
   "id": "fe486bab-fae1-431a-995e-a4d020931408",
   "metadata": {},
   "source": [
    "1. Starting from the firt element, Compare it wwith the next element.\n",
    "2. If the first element is greater then the second, swap them.\n",
    "3. Move the next adjacent pair and repeat the comparison.\n",
    "4. Continue this pocess until the last element of the array is reached.\n",
    "5. After the first pass, the largest element is at the last position.\n",
    "6. Repeat the process for  the remaining elements excluding the last sorted element.\n",
    "7. Continue this process until all elements are sorted."
   ]
  },
  {
   "cell_type": "code",
   "execution_count": 2,
   "id": "180d32b3-0a4d-4af2-a849-9fc447f174c3",
   "metadata": {},
   "outputs": [
    {
     "name": "stdout",
     "output_type": "stream",
     "text": [
      "[2, 3, 4, 5, 7, 8, 9]\n"
     ]
    }
   ],
   "source": [
    "arr = [8,3,7,4,9,2,5]\n",
    "n = len(arr)\n",
    "for i in range(n - 1):\n",
    "    for j in range(n - 1 - i):\n",
    "        if arr[j] > arr[j + 1]:\n",
    "            arr[j], arr[j + 1] = arr[j + 1], arr[j]\n",
    "print(arr)"
   ]
  },
  {
   "cell_type": "markdown",
   "id": "b73ddb29-3102-43d8-a19d-0a3beb510054",
   "metadata": {},
   "source": [
    "Selection Sort"
   ]
  },
  {
   "cell_type": "code",
   "execution_count": null,
   "id": "59718024-6801-4eac-bd6a-cc0f465d975e",
   "metadata": {},
   "outputs": [],
   "source": []
  },
  {
   "cell_type": "code",
   "execution_count": 4,
   "id": "05ebb941-534a-4905-9d95-f66ec6ea5df5",
   "metadata": {},
   "outputs": [
    {
     "name": "stdout",
     "output_type": "stream",
     "text": [
      "[11, 12, 22, 25, 64]\n"
     ]
    }
   ],
   "source": [
    "arr = [64,25,12,22,11]\n",
    "n = len(arr)\n",
    "for i in range(n - 1):\n",
    "    min_index = i\n",
    "    for j in range(i + 1, n):\n",
    "        if arr[j] < arr [min_index]:\n",
    "            min_index = j\n",
    "    arr[i], arr[min_index] = arr[min_index], arr[i]\n",
    "print(arr)"
   ]
  },
  {
   "cell_type": "markdown",
   "id": "c8e5fd79-bfb7-4b47-96a8-154785f14022",
   "metadata": {},
   "source": [
    "Insertion Sort"
   ]
  },
  {
   "cell_type": "markdown",
   "id": "2d8d6c8a-a28f-4361-b972-19154040e5cd",
   "metadata": {},
   "source": [
    "1. Assume the first element is already sorted.\n",
    "2. Pick the next element and compare it with the elements in the sorted posrtion.\n",
    "3. Shift element in the sorted portion to the right until the correct position is found.\n",
    "4. Insert the element into its correct position.\n",
    "5. Repeat the process until the entire array is sorted."
   ]
  },
  {
   "cell_type": "code",
   "execution_count": 5,
   "id": "3ba64fb2-5497-4df9-8636-d157080f1ed8",
   "metadata": {},
   "outputs": [
    {
     "name": "stdout",
     "output_type": "stream",
     "text": [
      "[10, 13, 14, 29, 37]\n"
     ]
    }
   ],
   "source": [
    "arr = [29,10,14,37,13]\n",
    "n = len(arr)\n",
    "for i in range(1, n):\n",
    "    key = arr[i]\n",
    "    j = i - 1\n",
    "    while j >= 0 and arr[j] > key:\n",
    "        arr[j + 1] = arr[j]\n",
    "        j -= 1\n",
    "    arr[j + 1] = key\n",
    "print(arr)"
   ]
  },
  {
   "cell_type": "markdown",
   "id": "422e044f-08ef-479c-8d9b-7fbfd27111c0",
   "metadata": {},
   "source": [
    "HCF"
   ]
  },
  {
   "cell_type": "markdown",
   "id": "cb7a8565-4a3c-431c-b4a6-f5a64cc1ea33",
   "metadata": {},
   "source": [
    "1. Start\n",
    "2. Input two numbers (num1 and num2)\n",
    "3. Repeat until num2 become 0:\n",
    "Replace the num1 with num2\n",
    "Replace the num2 with num1 % num2\n",
    "4. Output num1 as the HCF.\n",
    "5. End "
   ]
  },
  {
   "cell_type": "code",
   "execution_count": 10,
   "id": "97dff452-1bad-41d2-aa47-a12d18ee17d0",
   "metadata": {},
   "outputs": [
    {
     "name": "stdin",
     "output_type": "stream",
     "text": [
      "Enter the First Number 7\n",
      "Enter the Second Number 21\n"
     ]
    },
    {
     "name": "stdout",
     "output_type": "stream",
     "text": [
      "7\n"
     ]
    }
   ],
   "source": [
    "num1 = int(input(\"Enter the First Number\"))\n",
    "num2 = int(input(\"Enter the Second Number\"))\n",
    "while num2:\n",
    "    num1,num2 = num2,num1 % num2\n",
    "print(num1)"
   ]
  },
  {
   "cell_type": "markdown",
   "id": "b0cddf91-3f38-450d-a93c-1442c62d7e91",
   "metadata": {},
   "source": [
    "Add two numbers"
   ]
  },
  {
   "cell_type": "markdown",
   "id": "a4270c11-2bd6-4489-9644-a64abacf20f2",
   "metadata": {},
   "source": [
    "1. Start\n",
    "2. Declare three integers a,b and sum\n",
    "3. Define values of a and b\n",
    "4. Add values of a and b\n",
    "5. Store output of step 4 to sum\n",
    "6. print sum\n",
    "7. End"
   ]
  },
  {
   "cell_type": "code",
   "execution_count": 11,
   "id": "2260322a-6bf3-438c-9970-d48ac467b2fb",
   "metadata": {},
   "outputs": [
    {
     "name": "stdin",
     "output_type": "stream",
     "text": [
      "Enter the First Number 15\n",
      "Enter the Second Number 10\n"
     ]
    },
    {
     "name": "stdout",
     "output_type": "stream",
     "text": [
      "25\n"
     ]
    }
   ],
   "source": [
    "num1 = int(input(\"Enter the First Number\"))\n",
    "num2 = int(input(\"Enter the Second Number\"))\n",
    "sum = num1 + num2\n",
    "print(sum)"
   ]
  },
  {
   "cell_type": "code",
   "execution_count": null,
   "id": "f331311d-9f02-4a8c-9d60-4e3ac56ba725",
   "metadata": {},
   "outputs": [],
   "source": []
  }
 ],
 "metadata": {
  "kernelspec": {
   "display_name": "Python 3 (ipykernel)",
   "language": "python",
   "name": "python3"
  },
  "language_info": {
   "codemirror_mode": {
    "name": "ipython",
    "version": 3
   },
   "file_extension": ".py",
   "mimetype": "text/x-python",
   "name": "python",
   "nbconvert_exporter": "python",
   "pygments_lexer": "ipython3",
   "version": "3.12.4"
  }
 },
 "nbformat": 4,
 "nbformat_minor": 5
}
